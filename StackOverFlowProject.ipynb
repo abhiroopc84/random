{
  "cells": [
    {
      "cell_type": "markdown",
      "metadata": {
        "id": "view-in-github",
        "colab_type": "text"
      },
      "source": [
        "<a href=\"https://colab.research.google.com/github/abhiroopc84/random/blob/main/StackOverFlowProject.ipynb\" target=\"_parent\"><img src=\"https://colab.research.google.com/assets/colab-badge.svg\" alt=\"Open In Colab\"/></a>"
      ]
    },
    {
      "source": [
        "\n",
        "# IMPORTANT: RUN THIS CELL IN ORDER TO IMPORT YOUR KAGGLE DATA SOURCES\n",
        "# TO THE CORRECT LOCATION (/kaggle/input) IN YOUR NOTEBOOK,\n",
        "# THEN FEEL FREE TO DELETE THIS CELL.\n",
        "# NOTE: THIS NOTEBOOK ENVIRONMENT DIFFERS FROM KAGGLE'S PYTHON\n",
        "# ENVIRONMENT SO THERE MAY BE MISSING LIBRARIES USED BY YOUR\n",
        "# NOTEBOOK.\n",
        "\n",
        "import os\n",
        "import sys\n",
        "from tempfile import NamedTemporaryFile\n",
        "from urllib.request import urlopen\n",
        "from urllib.parse import unquote, urlparse\n",
        "from urllib.error import HTTPError\n",
        "from zipfile import ZipFile\n",
        "import tarfile\n",
        "import shutil\n",
        "\n",
        "CHUNK_SIZE = 40960\n",
        "DATA_SOURCE_MAPPING = 'predict-closed-questions-on-stack-overflow:https%3A%2F%2Fstorage.googleapis.com%2Fkaggle-competitions-data%2Fkaggle-v2%2F3043%2F46668%2Fbundle%2Farchive.zip%3FX-Goog-Algorithm%3DGOOG4-RSA-SHA256%26X-Goog-Credential%3Dgcp-kaggle-com%2540kaggle-161607.iam.gserviceaccount.com%252F20240506%252Fauto%252Fstorage%252Fgoog4_request%26X-Goog-Date%3D20240506T071142Z%26X-Goog-Expires%3D259200%26X-Goog-SignedHeaders%3Dhost%26X-Goog-Signature%3D51e018b3c303d29ed9bcd950a272244fbb28e16073bcfc8fca7d5056e28ea87942144032f581b7faa95fae72c55206effd59fbf14d75776d1a14bdc3dc6f120d58ce8d38e171ee22c86b6915dcfa05ead5181c82d3e48f73edf98ac7aa1be82b7ef7f70114f9f76d078919e6cd643edc0251f54b463611851d2de2349e0bbd177b5024ef8d199a9c3af1e8469eb322bd106402c508eb1a93ad6269e3c554d93c87de9ed378c3ecb957811b17863bd27aff7d0b4e2862f88cfd8a2dfc13da942a2454ea1b6c63dee03c1fed45658224617b2ff8b0b0e9653dde7f0c952bb5954b6e161023f7fd7b2120ae5271d6403d7471d7a66c83f8d583091b15e42f6747df'\n",
        "\n",
        "KAGGLE_INPUT_PATH='/kaggle/input'\n",
        "KAGGLE_WORKING_PATH='/kaggle/working'\n",
        "KAGGLE_SYMLINK='kaggle'\n",
        "\n",
        "!umount /kaggle/input/ 2> /dev/null\n",
        "shutil.rmtree('/kaggle/input', ignore_errors=True)\n",
        "os.makedirs(KAGGLE_INPUT_PATH, 0o777, exist_ok=True)\n",
        "os.makedirs(KAGGLE_WORKING_PATH, 0o777, exist_ok=True)\n",
        "\n",
        "try:\n",
        "  os.symlink(KAGGLE_INPUT_PATH, os.path.join(\"..\", 'input'), target_is_directory=True)\n",
        "except FileExistsError:\n",
        "  pass\n",
        "try:\n",
        "  os.symlink(KAGGLE_WORKING_PATH, os.path.join(\"..\", 'working'), target_is_directory=True)\n",
        "except FileExistsError:\n",
        "  pass\n",
        "\n",
        "for data_source_mapping in DATA_SOURCE_MAPPING.split(','):\n",
        "    directory, download_url_encoded = data_source_mapping.split(':')\n",
        "    download_url = unquote(download_url_encoded)\n",
        "    filename = urlparse(download_url).path\n",
        "    destination_path = os.path.join(KAGGLE_INPUT_PATH, directory)\n",
        "    try:\n",
        "        with urlopen(download_url) as fileres, NamedTemporaryFile() as tfile:\n",
        "            total_length = fileres.headers['content-length']\n",
        "            print(f'Downloading {directory}, {total_length} bytes compressed')\n",
        "            dl = 0\n",
        "            data = fileres.read(CHUNK_SIZE)\n",
        "            while len(data) > 0:\n",
        "                dl += len(data)\n",
        "                tfile.write(data)\n",
        "                done = int(50 * dl / int(total_length))\n",
        "                sys.stdout.write(f\"\\r[{'=' * done}{' ' * (50-done)}] {dl} bytes downloaded\")\n",
        "                sys.stdout.flush()\n",
        "                data = fileres.read(CHUNK_SIZE)\n",
        "            if filename.endswith('.zip'):\n",
        "              with ZipFile(tfile) as zfile:\n",
        "                zfile.extractall(destination_path)\n",
        "            else:\n",
        "              with tarfile.open(tfile.name) as tarfile:\n",
        "                tarfile.extractall(destination_path)\n",
        "            print(f'\\nDownloaded and uncompressed: {directory}')\n",
        "    except HTTPError as e:\n",
        "        print(f'Failed to load (likely expired) {download_url} to path {destination_path}')\n",
        "        continue\n",
        "    except OSError as e:\n",
        "        print(f'Failed to load {download_url} to path {destination_path}')\n",
        "        continue\n",
        "\n",
        "print('Data source import complete.')\n"
      ],
      "metadata": {
        "id": "PchslWRGv-zn"
      },
      "cell_type": "code",
      "outputs": [],
      "execution_count": null
    },
    {
      "metadata": {
        "_uuid": "8f2839f25d086af736a60e9eeb907d3b93b6e0e5",
        "_cell_guid": "b1076dfc-b9ad-4769-8c92-a6c4dae69d19",
        "trusted": true,
        "id": "27iCXIaAv-zo"
      },
      "cell_type": "code",
      "source": [
        "# This Python 3 environment comes with many helpful analytics libraries installed\n",
        "# It is defined by the kaggle/python Docker image: https://github.com/kaggle/docker-python\n",
        "# For example, here's several helpful packages to load\n",
        "\n",
        "import numpy as np # linear algebra\n",
        "import pandas as pd # data processing, CSV file I/O (e.g. pd.read_csv)\n",
        "\n",
        "# Input data files are available in the read-only \"../input/\" directory\n",
        "# For example, running this (by clicking run or pressing Shift+Enter) will list all files under the input directory\n",
        "\n",
        "import os\n",
        "for dirname, _, filenames in os.walk('/kaggle/input'):\n",
        "    for filename in filenames:\n",
        "        print(os.path.join(dirname, filename))\n",
        "\n",
        "# You can write up to 20GB to the current directory (/kaggle/working/) that gets preserved as output when you create a version using \"Save & Run All\"\n",
        "# You can also write temporary files to /kaggle/temp/, but they won't be saved outside of the current session"
      ],
      "execution_count": null,
      "outputs": []
    },
    {
      "metadata": {
        "_uuid": "d629ff2d2480ee46fbb7e2d37f6b5fab8052498a",
        "_cell_guid": "79c7e3d0-c299-4dcb-8224-4455121ee9b0",
        "trusted": true,
        "id": "8re5B5osv-zo"
      },
      "cell_type": "code",
      "source": [
        "df_train=pd.read_csv('../input/predict-closed-questions-on-stack-overflow/train-sample.csv')\n",
        "df_train.head()"
      ],
      "execution_count": null,
      "outputs": []
    },
    {
      "metadata": {
        "trusted": true,
        "id": "dLO7aAd1v-zo"
      },
      "cell_type": "code",
      "source": [
        "df_train.shape"
      ],
      "execution_count": null,
      "outputs": []
    },
    {
      "metadata": {
        "trusted": true,
        "id": "CJY3VYatv-zp"
      },
      "cell_type": "code",
      "source": [
        "from sklearn.model_selection import train_test_split\n",
        "train_df,test_df=train_test_split(df_train,test_size=0.2)\n",
        "print('Training data shape: {}'.format(train_df.shape))\n",
        "print('Testing data shape: {}'.format(test_df.shape))\n"
      ],
      "execution_count": null,
      "outputs": []
    },
    {
      "metadata": {
        "id": "NbMkElOiv-zp"
      },
      "cell_type": "markdown",
      "source": [
        "# Exploratory Data Analysis"
      ]
    },
    {
      "metadata": {
        "id": "ClHzYiHev-zq"
      },
      "cell_type": "markdown",
      "source": [
        "## PostID"
      ]
    },
    {
      "metadata": {
        "id": "shyBwDHOv-zq"
      },
      "cell_type": "markdown",
      "source": [
        "This feature is the id of the query posted by the user. This feauture does not have any importance in making the prediction but it will be used later for submission we will save it."
      ]
    },
    {
      "metadata": {
        "trusted": true,
        "id": "Wi4vyvVTv-zq"
      },
      "cell_type": "code",
      "source": [
        "train_post_id=train_df.PostId\n",
        "test_post_id=test_df.PostId"
      ],
      "execution_count": null,
      "outputs": []
    },
    {
      "metadata": {
        "id": "iyc_qOIVv-zq"
      },
      "cell_type": "markdown",
      "source": [
        "## PostCreationDate\n",
        "\n",
        "The post creation date is the date and time on which the query was posted by the user let us see if we could make something out of this."
      ]
    },
    {
      "metadata": {
        "id": "I3AqJglXv-zq"
      },
      "cell_type": "markdown",
      "source": [
        "As we have observed that it doesn't matter on the time the question is posted on its label thus we can just remove this column both from our train and test."
      ]
    },
    {
      "metadata": {
        "trusted": true,
        "id": "G_agaf3uv-zr"
      },
      "cell_type": "code",
      "source": [
        "train_df.drop(['PostCreationDate'],axis=1,inplace=True)\n",
        "test_df.drop(['PostCreationDate'],axis=1,inplace=True)"
      ],
      "execution_count": null,
      "outputs": []
    },
    {
      "metadata": {
        "trusted": true,
        "id": "AClaCAkev-zr"
      },
      "cell_type": "code",
      "source": [
        "train_df.head(2)"
      ],
      "execution_count": null,
      "outputs": []
    },
    {
      "metadata": {
        "id": "GmJYIR6Yv-zr"
      },
      "cell_type": "markdown",
      "source": [
        "## OwnerUserId"
      ]
    },
    {
      "metadata": {
        "id": "uB_eC_j0v-zr"
      },
      "cell_type": "markdown",
      "source": [
        "This is the user id who posted the query. Let us check it"
      ]
    },
    {
      "metadata": {
        "trusted": true,
        "id": "qgLLy360v-zr"
      },
      "cell_type": "code",
      "source": [
        "train_df['PostCount']=[1]*len(train_df['PostId'])"
      ],
      "execution_count": null,
      "outputs": []
    },
    {
      "metadata": {
        "trusted": true,
        "id": "VgjfyAXpv-zr"
      },
      "cell_type": "code",
      "source": [
        "pd.pivot_table(train_df,index='OwnerUserId',columns='OpenStatus',values='PostCount',aggfunc='sum')"
      ],
      "execution_count": null,
      "outputs": []
    },
    {
      "metadata": {
        "trusted": true,
        "id": "DArOKg-0v-zr"
      },
      "cell_type": "code",
      "source": [
        "train_df.loc[train_df['OpenStatus']=='open','OwnerUserId'].value_counts()"
      ],
      "execution_count": null,
      "outputs": []
    },
    {
      "metadata": {
        "id": "tcmPUMFwv-zr"
      },
      "cell_type": "markdown",
      "source": [
        "We see that it does not matter on the OwnerUserId whether his question is going to be open or not as there are many user whose only one question remain open\n",
        "So, we would be dropping this column"
      ]
    },
    {
      "metadata": {
        "trusted": true,
        "id": "JjD45sbWv-zr"
      },
      "cell_type": "code",
      "source": [
        "train_df.drop(['OwnerUserId'],axis=1,inplace=True)\n",
        "test_df.drop(['OwnerUserId'],axis=1,inplace=True)"
      ],
      "execution_count": null,
      "outputs": []
    },
    {
      "metadata": {
        "id": "4e5X-W49v-zr"
      },
      "cell_type": "markdown",
      "source": [
        "## Reputation at Post Created\n",
        "\n",
        "This can be a important factor. Let's take a look at it"
      ]
    },
    {
      "metadata": {
        "trusted": true,
        "id": "SkU6HmNNv-zr"
      },
      "cell_type": "code",
      "source": [
        "df_train['ReputationAtPostCreation'].min()"
      ],
      "execution_count": null,
      "outputs": []
    },
    {
      "metadata": {
        "trusted": true,
        "id": "6AzuGfnyv-zr"
      },
      "cell_type": "code",
      "source": [
        "df_train['ReputationAtPostCreation'].max()"
      ],
      "execution_count": null,
      "outputs": []
    },
    {
      "metadata": {
        "id": "t4FCuTANv-zr"
      },
      "cell_type": "markdown",
      "source": [
        "Since the data range is such high let us scale it using MinMaxScaler"
      ]
    },
    {
      "metadata": {
        "trusted": true,
        "id": "gfLUF5vMv-zr"
      },
      "cell_type": "code",
      "source": [
        "minimum=df_train['ReputationAtPostCreation'].min()\n",
        "maximum=df_train['ReputationAtPostCreation'].max()"
      ],
      "execution_count": null,
      "outputs": []
    },
    {
      "metadata": {
        "trusted": true,
        "id": "vJU4dzZbv-zs"
      },
      "cell_type": "code",
      "source": [
        "train_df['ReputationAtPostCreation']=(train_df['ReputationAtPostCreation']-minimum)/(maximum-minimum)"
      ],
      "execution_count": null,
      "outputs": []
    },
    {
      "metadata": {
        "trusted": true,
        "id": "UFyrK1J2v-zs"
      },
      "cell_type": "code",
      "source": [
        "test_df['ReputationAtPostCreation']=(test_df['ReputationAtPostCreation']-minimum)/(maximum-minimum)"
      ],
      "execution_count": null,
      "outputs": []
    },
    {
      "metadata": {
        "id": "Zev5i-xrv-zs"
      },
      "cell_type": "markdown",
      "source": [
        "## OwnerUndeletedAnswerCountAtPostTime"
      ]
    },
    {
      "metadata": {
        "trusted": true,
        "id": "2Aqj45FCv-zs"
      },
      "cell_type": "code",
      "source": [
        "train_df.OwnerUndeletedAnswerCountAtPostTime.value_counts()"
      ],
      "execution_count": null,
      "outputs": []
    },
    {
      "metadata": {
        "id": "XDi5SYmMv-zs"
      },
      "cell_type": "markdown",
      "source": [
        "This feature doesnot seem to be doing anything, we will be dropping it for now."
      ]
    },
    {
      "metadata": {
        "trusted": true,
        "id": "uSzF9r7bv-zs"
      },
      "cell_type": "code",
      "source": [
        "train_df.drop(['OwnerUndeletedAnswerCountAtPostTime'],axis=1,inplace=True)\n",
        "test_df.drop(['OwnerUndeletedAnswerCountAtPostTime'],axis=1,inplace=True)"
      ],
      "execution_count": null,
      "outputs": []
    },
    {
      "metadata": {
        "id": "6fiVsvVpv-zs"
      },
      "cell_type": "markdown",
      "source": [
        "## PostClosedDate"
      ]
    },
    {
      "metadata": {
        "id": "YvXGJw4Kv-zs"
      },
      "cell_type": "markdown",
      "source": [
        "Dropping this column as post closed date does not seem to be doing anything, so we would be dropping it"
      ]
    },
    {
      "metadata": {
        "trusted": true,
        "id": "G6ORKkxkv-zs"
      },
      "cell_type": "code",
      "source": [
        "train_df.drop(['PostClosedDate'],axis=1,inplace=True)\n",
        "test_df.drop(['PostClosedDate'],axis=1,inplace=True)"
      ],
      "execution_count": null,
      "outputs": []
    },
    {
      "metadata": {
        "id": "Hi0o7aniv-zs"
      },
      "cell_type": "markdown",
      "source": [
        "## Tag1"
      ]
    },
    {
      "metadata": {
        "trusted": true,
        "id": "eFv2y5u7v-zs"
      },
      "cell_type": "code",
      "source": [
        "train_df['Tag1'].isnull().sum()"
      ],
      "execution_count": null,
      "outputs": []
    },
    {
      "metadata": {
        "trusted": true,
        "id": "dxi_9X6Dv-zs"
      },
      "cell_type": "code",
      "source": [
        "test_df['Tag1'].isnull().sum()"
      ],
      "execution_count": null,
      "outputs": []
    },
    {
      "metadata": {
        "id": "Skc5IEBSv-zs"
      },
      "cell_type": "markdown",
      "source": [
        "We can combine all the tags column into one this would help us in comparing the words which are used as tags and the words used in Title and Body."
      ]
    },
    {
      "metadata": {
        "trusted": true,
        "id": "MgaH22Vlv-zs"
      },
      "cell_type": "code",
      "source": [
        "train_df['Tag1']=train_df['Tag1'].replace(np.nan,' ')"
      ],
      "execution_count": null,
      "outputs": []
    },
    {
      "metadata": {
        "trusted": true,
        "id": "n9pOe5Ryv-zt"
      },
      "cell_type": "code",
      "source": [
        "train_df['Tag2']=train_df['Tag2'].replace(np.nan,' ')\n",
        "train_df['Tag3']=train_df['Tag3'].replace(np.nan,' ')\n",
        "train_df['Tag4']=train_df['Tag4'].replace(np.nan,' ')\n",
        "train_df['Tag5']=train_df['Tag5'].replace(np.nan,' ')"
      ],
      "execution_count": null,
      "outputs": []
    },
    {
      "metadata": {
        "trusted": true,
        "id": "8tCYOthvv-zt"
      },
      "cell_type": "code",
      "source": [
        "test_df['Tag1']=test_df['Tag1'].replace(np.nan,' ')\n",
        "test_df['Tag2']=test_df['Tag2'].replace(np.nan,' ')\n",
        "test_df['Tag3']=test_df['Tag3'].replace(np.nan,' ')\n",
        "test_df['Tag4']=test_df['Tag4'].replace(np.nan,' ')\n",
        "test_df['Tag5']=test_df['Tag5'].replace(np.nan,' ')"
      ],
      "execution_count": null,
      "outputs": []
    },
    {
      "metadata": {
        "trusted": true,
        "id": "5bwaabbjv-zt"
      },
      "cell_type": "code",
      "source": [
        "train_df['Tag1']"
      ],
      "execution_count": null,
      "outputs": []
    },
    {
      "metadata": {
        "trusted": true,
        "id": "SrUV_UdSv-zt"
      },
      "cell_type": "code",
      "source": [
        "train_df['Tags']=train_df['Tag1']+' '+train_df['Tag2']+' '+train_df['Tag3']+' '+train_df['Tag4']+' '+train_df['Tag5']"
      ],
      "execution_count": null,
      "outputs": []
    },
    {
      "metadata": {
        "trusted": true,
        "id": "VLQicWUBv-zt"
      },
      "cell_type": "code",
      "source": [
        "test_df['Tags']=test_df['Tag1']+' '+test_df['Tag2']+' '+test_df['Tag3']+' '+test_df['Tag4']+' '+test_df['Tag5']"
      ],
      "execution_count": null,
      "outputs": []
    },
    {
      "metadata": {
        "trusted": true,
        "id": "MYZQyVUev-zt"
      },
      "cell_type": "code",
      "source": [
        "train_df['Tags']=train_df['Tags'].str.lower()"
      ],
      "execution_count": null,
      "outputs": []
    },
    {
      "metadata": {
        "trusted": true,
        "id": "GusH6bJPv-zt"
      },
      "cell_type": "code",
      "source": [
        "test_df['Tags']=test_df['Tags'].str.lower()"
      ],
      "execution_count": null,
      "outputs": []
    },
    {
      "metadata": {
        "trusted": true,
        "id": "rlMVlmP8v-zt"
      },
      "cell_type": "code",
      "source": [
        "test_df['Tags']"
      ],
      "execution_count": null,
      "outputs": []
    },
    {
      "metadata": {
        "trusted": true,
        "id": "_-Q9B7EAv-zt"
      },
      "cell_type": "code",
      "source": [
        "train_df['Tags']=train_df['Tags'].apply(lambda x:x.lstrip())\n",
        "train_df['Tags']=train_df['Tags'].apply(lambda x:x.rstrip())\n"
      ],
      "execution_count": null,
      "outputs": []
    },
    {
      "metadata": {
        "trusted": true,
        "id": "L8Ni_Y3Ev-zt"
      },
      "cell_type": "code",
      "source": [
        "train_df['Tags']"
      ],
      "execution_count": null,
      "outputs": []
    },
    {
      "metadata": {
        "trusted": true,
        "id": "wY6rv5svv-zt"
      },
      "cell_type": "code",
      "source": [
        "test_df['Tags']=test_df['Tags'].apply(lambda x:x.lstrip())\n",
        "test_df['Tags']=test_df['Tags'].apply(lambda x:x.rstrip())"
      ],
      "execution_count": null,
      "outputs": []
    },
    {
      "metadata": {
        "trusted": true,
        "id": "4jKYfEjQv-zt"
      },
      "cell_type": "code",
      "source": [
        "train_df.head(1)"
      ],
      "execution_count": null,
      "outputs": []
    },
    {
      "metadata": {
        "trusted": true,
        "id": "HJsMVdwuv-zt"
      },
      "cell_type": "code",
      "source": [
        "# Dropping excess columns\n",
        "train_df.drop(['PostId','OwnerCreationDate','Tag1','Tag2','Tag3','Tag4','Tag5','PostCount'],axis=1,inplace=True)\n",
        "test_df.drop(['PostId','OwnerCreationDate','Tag1','Tag2','Tag3','Tag4','Tag5'],axis=1,inplace=True)"
      ],
      "execution_count": null,
      "outputs": []
    },
    {
      "metadata": {
        "trusted": true,
        "id": "5Kxt1t-uv-zt"
      },
      "cell_type": "code",
      "source": [
        "train_df.head()"
      ],
      "execution_count": null,
      "outputs": []
    },
    {
      "metadata": {
        "trusted": true,
        "id": "j85s9xsMv-zu"
      },
      "cell_type": "code",
      "source": [
        "test_df.head()"
      ],
      "execution_count": null,
      "outputs": []
    },
    {
      "metadata": {
        "trusted": true,
        "id": "rcTSLN-Qv-zu"
      },
      "cell_type": "code",
      "source": [
        "y_train=train_df['OpenStatus']\n",
        "y_test=test_df['OpenStatus']"
      ],
      "execution_count": null,
      "outputs": []
    },
    {
      "metadata": {
        "trusted": true,
        "id": "uAMrOQk3v-zu"
      },
      "cell_type": "code",
      "source": [
        "train_df.drop(['ReputationAtPostCreation','OpenStatus'],axis=1,inplace=True)\n",
        "test_df.drop(['ReputationAtPostCreation','OpenStatus'],axis=1,inplace=True)"
      ],
      "execution_count": null,
      "outputs": []
    },
    {
      "metadata": {
        "trusted": true,
        "id": "-otm1c8zv-zu"
      },
      "cell_type": "code",
      "source": [
        "y_train=y_train.map({'not a real question':0,\n",
        "  'not constructive':1,\n",
        "  'off topic':2,\n",
        "  'open':3,\n",
        "  'too localized':4})"
      ],
      "execution_count": null,
      "outputs": []
    },
    {
      "metadata": {
        "trusted": true,
        "id": "MCyg8A9pv-zu"
      },
      "cell_type": "code",
      "source": [
        "y_test=y_test.map({'not a real question':0,\n",
        "  'not constructive':1,\n",
        "  'off topic':2,\n",
        "  'open':3,\n",
        "  'too localized':4})"
      ],
      "execution_count": null,
      "outputs": []
    },
    {
      "metadata": {
        "trusted": true,
        "id": "491tpe_-v-zu"
      },
      "cell_type": "code",
      "source": [
        "train_df.head()"
      ],
      "execution_count": null,
      "outputs": []
    },
    {
      "metadata": {
        "trusted": true,
        "id": "QZm7gknUv-zu"
      },
      "cell_type": "code",
      "source": [
        "test_df.head()"
      ],
      "execution_count": null,
      "outputs": []
    },
    {
      "metadata": {
        "trusted": true,
        "id": "xdxkYCX_v-zu"
      },
      "cell_type": "code",
      "source": [
        "train_df['Text']=train_df['Title']+' '+train_df['BodyMarkdown']+' '+train_df['Tags']\n",
        "test_df['Text']=test_df['Title']+' '+test_df['BodyMarkdown']+' '+test_df['Tags']"
      ],
      "execution_count": null,
      "outputs": []
    },
    {
      "metadata": {
        "trusted": true,
        "id": "fg7xR2Gsv-zu"
      },
      "cell_type": "code",
      "source": [
        "train_df.drop(['Title','BodyMarkdown','Tags'],axis=1,inplace=True)\n",
        "test_df.drop(['Title','BodyMarkdown','Tags'],axis=1,inplace=True)"
      ],
      "execution_count": null,
      "outputs": []
    },
    {
      "metadata": {
        "trusted": true,
        "id": "9llr6WNMv-zu"
      },
      "cell_type": "code",
      "source": [
        "train_df.reset_index(inplace=True)\n",
        "test_df.reset_index(inplace=True)"
      ],
      "execution_count": null,
      "outputs": []
    },
    {
      "metadata": {
        "trusted": true,
        "id": "t67CN0-nv-zu"
      },
      "cell_type": "code",
      "source": [
        "train_df.drop(['index'],inplace=True,axis=1)"
      ],
      "execution_count": null,
      "outputs": []
    },
    {
      "metadata": {
        "trusted": true,
        "id": "YOwYCVbCv-zu"
      },
      "cell_type": "code",
      "source": [
        "test_df.drop(['index'],axis=1,inplace=True)"
      ],
      "execution_count": null,
      "outputs": []
    },
    {
      "metadata": {
        "id": "P7sDU_zDv-zu"
      },
      "cell_type": "markdown",
      "source": [
        "# Building the tensorflow model\n"
      ]
    },
    {
      "metadata": {
        "trusted": true,
        "id": "yDLMytE4v-zu"
      },
      "cell_type": "code",
      "source": [
        "from tensorflow.keras.preprocessing.text import Tokenizer\n",
        "max_words=10000\n",
        "tokenizer=Tokenizer(max_words)\n",
        "tokenizer.fit_on_texts(train_df['Text'])\n",
        "sequence_train=tokenizer.texts_to_sequences(train_df['Text'])\n",
        "sequence_test=tokenizer.texts_to_sequences(test_df['Text'])"
      ],
      "execution_count": null,
      "outputs": []
    },
    {
      "metadata": {
        "trusted": true,
        "id": "dJ1baX-Xv-zv"
      },
      "cell_type": "code",
      "source": [
        "word_2_vec=tokenizer.word_index\n",
        "V=len(word_2_vec)\n",
        "print('Dataset has {} number of independent tokens'.format(V))"
      ],
      "execution_count": null,
      "outputs": []
    },
    {
      "metadata": {
        "trusted": true,
        "id": "gCSla7uPv-zv"
      },
      "cell_type": "code",
      "source": [
        "from tensorflow.keras.preprocessing.sequence import pad_sequences\n",
        "data_train=pad_sequences(sequence_train)\n",
        "data_train.shape"
      ],
      "execution_count": null,
      "outputs": []
    },
    {
      "metadata": {
        "trusted": true,
        "id": "axcWyPE-v-zv"
      },
      "cell_type": "code",
      "source": [
        "T=data_train.shape[1]\n",
        "data_test=pad_sequences(sequence_test,maxlen=T)\n",
        "data_test.shape\n"
      ],
      "execution_count": null,
      "outputs": []
    },
    {
      "metadata": {
        "trusted": true,
        "id": "aKL5nJURv-zv"
      },
      "cell_type": "code",
      "source": [
        "from tensorflow.keras.layers import Input,Conv1D,MaxPooling1D,Dense,GlobalMaxPooling1D,Embedding\n",
        "from tensorflow.keras.models import Model\n",
        "D=20\n",
        "i=Input((T,))\n",
        "x=Embedding(V+1,D)(i)\n",
        "x=Conv1D(32,3,activation='relu')(x)\n",
        "x=MaxPooling1D(3)(x)\n",
        "x=Conv1D(64,3,activation='relu')(x)\n",
        "x=MaxPooling1D(3)(x)\n",
        "x=Conv1D(128,3,activation='relu')(x)\n",
        "x=GlobalMaxPooling1D()(x)\n",
        "x=Dense(5,activation='softmax')(x)\n",
        "model=Model(i,x)\n",
        "model.summary()"
      ],
      "execution_count": null,
      "outputs": []
    },
    {
      "metadata": {
        "trusted": true,
        "id": "AcHRHeKRv-zv"
      },
      "cell_type": "code",
      "source": [
        "model.compile(loss='sparse_categorical_crossentropy',optimizer='adam',metrics=['accuracy'])\n",
        "cnn_senti=model.fit(data_train,y_train,validation_data=(data_test,y_test),batch_size=100,epochs=5)"
      ],
      "execution_count": null,
      "outputs": []
    },
    {
      "metadata": {
        "trusted": true,
        "id": "chyaObGav-zv"
      },
      "cell_type": "code",
      "source": [
        "model.predict(data_test)"
      ],
      "execution_count": null,
      "outputs": []
    },
    {
      "metadata": {
        "trusted": true,
        "id": "Sni0CbN7v-zv"
      },
      "cell_type": "code",
      "source": [
        "y_pred=model.predict(data_test)"
      ],
      "execution_count": null,
      "outputs": []
    },
    {
      "metadata": {
        "trusted": true,
        "id": "j7FRyZVCv-zv"
      },
      "cell_type": "code",
      "source": [
        "y_pred_final=np.argmax(y_pred,axis=1)\n",
        "y_pred_final"
      ],
      "execution_count": null,
      "outputs": []
    },
    {
      "metadata": {
        "id": "KPAzyCsfv-zv"
      },
      "cell_type": "markdown",
      "source": [
        "## Scoring"
      ]
    },
    {
      "metadata": {
        "trusted": true,
        "id": "zHUXVI7qv-zv"
      },
      "cell_type": "code",
      "source": [
        "from sklearn.metrics import confusion_matrix,classification_report\n",
        "import seaborn as sns"
      ],
      "execution_count": null,
      "outputs": []
    },
    {
      "metadata": {
        "trusted": true,
        "id": "H3tx7xL1v-zv"
      },
      "cell_type": "code",
      "source": [
        "cm=confusion_matrix(y_test,y_pred_final)\n",
        "ax=sns.heatmap(cm,cmap='Blues',annot=True,fmt=' ')\n",
        "ax.set_title('Confusion Matrix')\n",
        "ax.set_xlabel('Y Test')\n",
        "ax.set_ylabel('Y Pred')"
      ],
      "execution_count": null,
      "outputs": []
    },
    {
      "metadata": {
        "trusted": true,
        "id": "dSSc_Ke6v-zw"
      },
      "cell_type": "code",
      "source": [
        "print(classification_report(y_test,y_pred_final))"
      ],
      "execution_count": null,
      "outputs": []
    },
    {
      "metadata": {
        "trusted": true,
        "id": "BPgBE-z1v-zw"
      },
      "cell_type": "code",
      "source": [
        "df_submission=pd.DataFrame(test_post_id,columns=['PostId'])\n",
        "df_submission.head()"
      ],
      "execution_count": null,
      "outputs": []
    },
    {
      "metadata": {
        "trusted": true,
        "id": "UJLRFWfIv-zw"
      },
      "cell_type": "code",
      "source": [
        "test_post_id.reset_index(drop=True)"
      ],
      "execution_count": null,
      "outputs": []
    },
    {
      "metadata": {
        "trusted": true,
        "id": "WwKNtwaXv-zw"
      },
      "cell_type": "code",
      "source": [
        "df_submission_1=pd.DataFrame(y_pred,columns=[0,1,2,3,4])"
      ],
      "execution_count": null,
      "outputs": []
    },
    {
      "metadata": {
        "trusted": true,
        "id": "yAzy_DGCv-zw"
      },
      "cell_type": "code",
      "source": [
        "df_submission_1"
      ],
      "execution_count": null,
      "outputs": []
    },
    {
      "metadata": {
        "trusted": true,
        "id": "m4hGSKsFv-zw"
      },
      "cell_type": "code",
      "source": [
        "df_submission_1['PostId']=list(test_post_id)"
      ],
      "execution_count": null,
      "outputs": []
    },
    {
      "metadata": {
        "trusted": true,
        "id": "xXh7fhwWv-zw"
      },
      "cell_type": "code",
      "source": [
        "columns=['PostId',0,1,2,3,4]\n",
        "df_submission_1=df_submission_1[columns]\n",
        "df_submission_1"
      ],
      "execution_count": null,
      "outputs": []
    },
    {
      "metadata": {
        "trusted": true,
        "id": "K3OgGCqLv-zw"
      },
      "cell_type": "code",
      "source": [
        "df_submission_1.columns"
      ],
      "execution_count": null,
      "outputs": []
    },
    {
      "metadata": {
        "trusted": true,
        "id": "rUFP73gbv-zw"
      },
      "cell_type": "code",
      "source": [
        "df_submission_1['Sum']=df_submission_1[0]+df_submission_1[1]+df_submission_1[2]+df_submission_1[3]+df_submission_1[4]\n"
      ],
      "execution_count": null,
      "outputs": []
    },
    {
      "metadata": {
        "trusted": true,
        "id": "QpsGj2MQv-zw"
      },
      "cell_type": "code",
      "source": [
        "df_submission_1"
      ],
      "execution_count": null,
      "outputs": []
    }
  ],
  "metadata": {
    "kernelspec": {
      "language": "python",
      "display_name": "Python 3",
      "name": "python3"
    },
    "language_info": {
      "pygments_lexer": "ipython3",
      "nbconvert_exporter": "python",
      "version": "3.6.4",
      "file_extension": ".py",
      "codemirror_mode": {
        "name": "ipython",
        "version": 3
      },
      "name": "python",
      "mimetype": "text/x-python"
    },
    "colab": {
      "name": "StackOverFlowProject",
      "provenance": [],
      "include_colab_link": true
    }
  },
  "nbformat": 4,
  "nbformat_minor": 0
}